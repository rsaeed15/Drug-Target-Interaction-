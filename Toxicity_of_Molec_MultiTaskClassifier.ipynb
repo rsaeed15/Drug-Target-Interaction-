{
  "nbformat": 4,
  "nbformat_minor": 0,
  "metadata": {
    "colab": {
      "name": "Toxicity_of_Molec_MultiTaskClassifier.ipynb",
      "provenance": [],
      "collapsed_sections": [],
      "toc_visible": true,
      "include_colab_link": true
    },
    "kernelspec": {
      "display_name": "Python 3",
      "name": "python3"
    }
  },
  "cells": [
    {
      "cell_type": "markdown",
      "metadata": {
        "id": "view-in-github",
        "colab_type": "text"
      },
      "source": [
        "<a href=\"https://colab.research.google.com/github/rsaeed15/Drug-Target-Interaction-/blob/main/Toxicity_of_Molec_MultiTaskClassifier.ipynb\" target=\"_parent\"><img src=\"https://colab.research.google.com/assets/colab-badge.svg\" alt=\"Open In Colab\"/></a>"
      ]
    },
    {
      "cell_type": "markdown",
      "metadata": {
        "id": "5fCEDCU_qrC0"
      },
      "source": [
        "<p><img alt=\"Colaboratory logo\" height=\"45px\" src=\"/img/colab_favicon.ico\" align=\"left\" hspace=\"10px\" vspace=\"0px\"></p>\n",
        "\n",
        "<h1>What is Colaboratory?</h1>\n",
        "\n",
        "Colaboratory, or \"Colab\" for short, allows you to write and execute Python in your browser, with \n",
        "- Zero configuration required\n",
        "- Free access to GPUs\n",
        "- Easy sharing\n",
        "\n",
        "Whether you're a **student**, a **data scientist** or an **AI researcher**, Colab can make your work easier. Watch [Introduction to Colab](https://www.youtube.com/watch?v=inN8seMm7UI) to learn more, or just get started below!"
      ]
    },
    {
      "cell_type": "markdown",
      "metadata": {
        "id": "GJBs_flRovLc"
      },
      "source": [
        "## **Getting started**\n",
        "\n",
        "The document you are reading is not a static web page, but an interactive environment called a **Colab notebook** that lets you write and execute code.\n",
        "\n",
        "For example, here is a **code cell** with a short Python script that computes a value, stores it in a variable, and prints the result:"
      ]
    },
    {
      "cell_type": "markdown",
      "metadata": {
        "id": "2fhs6GZ4qFMx"
      },
      "source": [
        "To execute the code in the above cell, select it with a click and then either press the play button to the left of the code, or use the keyboard shortcut \"Command/Ctrl+Enter\". To edit the code, just click the cell and start editing.\n",
        "\n",
        "Variables that you define in one cell can later be used in other cells:"
      ]
    },
    {
      "cell_type": "code",
      "metadata": {
        "colab": {
          "base_uri": "https://localhost:8080/"
        },
        "id": "-gE-Ez1qtyIA",
        "outputId": "a2ec0c82-15e2-4b3e-b350-1be525329d92"
      },
      "source": [
        "! pip install deepchem\n",
        "import numpy as np\n",
        "import deepchem as dc"
      ],
      "execution_count": null,
      "outputs": [
        {
          "output_type": "stream",
          "name": "stdout",
          "text": [
            "Collecting deepchem\n",
            "  Downloading deepchem-2.5.0-py3-none-any.whl (552 kB)\n",
            "\u001b[?25l\r\u001b[K     |▋                               | 10 kB 24.4 MB/s eta 0:00:01\r\u001b[K     |█▏                              | 20 kB 30.5 MB/s eta 0:00:01\r\u001b[K     |█▉                              | 30 kB 33.6 MB/s eta 0:00:01\r\u001b[K     |██▍                             | 40 kB 23.5 MB/s eta 0:00:01\r\u001b[K     |███                             | 51 kB 20.3 MB/s eta 0:00:01\r\u001b[K     |███▋                            | 61 kB 15.6 MB/s eta 0:00:01\r\u001b[K     |████▏                           | 71 kB 12.9 MB/s eta 0:00:01\r\u001b[K     |████▊                           | 81 kB 14.2 MB/s eta 0:00:01\r\u001b[K     |█████▍                          | 92 kB 15.5 MB/s eta 0:00:01\r\u001b[K     |██████                          | 102 kB 16.3 MB/s eta 0:00:01\r\u001b[K     |██████▌                         | 112 kB 16.3 MB/s eta 0:00:01\r\u001b[K     |███████▏                        | 122 kB 16.3 MB/s eta 0:00:01\r\u001b[K     |███████▊                        | 133 kB 16.3 MB/s eta 0:00:01\r\u001b[K     |████████▎                       | 143 kB 16.3 MB/s eta 0:00:01\r\u001b[K     |█████████                       | 153 kB 16.3 MB/s eta 0:00:01\r\u001b[K     |█████████▌                      | 163 kB 16.3 MB/s eta 0:00:01\r\u001b[K     |██████████                      | 174 kB 16.3 MB/s eta 0:00:01\r\u001b[K     |██████████▊                     | 184 kB 16.3 MB/s eta 0:00:01\r\u001b[K     |███████████▎                    | 194 kB 16.3 MB/s eta 0:00:01\r\u001b[K     |███████████▉                    | 204 kB 16.3 MB/s eta 0:00:01\r\u001b[K     |████████████▌                   | 215 kB 16.3 MB/s eta 0:00:01\r\u001b[K     |█████████████                   | 225 kB 16.3 MB/s eta 0:00:01\r\u001b[K     |█████████████▋                  | 235 kB 16.3 MB/s eta 0:00:01\r\u001b[K     |██████████████▎                 | 245 kB 16.3 MB/s eta 0:00:01\r\u001b[K     |██████████████▉                 | 256 kB 16.3 MB/s eta 0:00:01\r\u001b[K     |███████████████▍                | 266 kB 16.3 MB/s eta 0:00:01\r\u001b[K     |████████████████                | 276 kB 16.3 MB/s eta 0:00:01\r\u001b[K     |████████████████▋               | 286 kB 16.3 MB/s eta 0:00:01\r\u001b[K     |█████████████████▏              | 296 kB 16.3 MB/s eta 0:00:01\r\u001b[K     |█████████████████▉              | 307 kB 16.3 MB/s eta 0:00:01\r\u001b[K     |██████████████████▍             | 317 kB 16.3 MB/s eta 0:00:01\r\u001b[K     |███████████████████             | 327 kB 16.3 MB/s eta 0:00:01\r\u001b[K     |███████████████████▋            | 337 kB 16.3 MB/s eta 0:00:01\r\u001b[K     |████████████████████▏           | 348 kB 16.3 MB/s eta 0:00:01\r\u001b[K     |████████████████████▊           | 358 kB 16.3 MB/s eta 0:00:01\r\u001b[K     |█████████████████████▍          | 368 kB 16.3 MB/s eta 0:00:01\r\u001b[K     |██████████████████████          | 378 kB 16.3 MB/s eta 0:00:01\r\u001b[K     |██████████████████████▌         | 389 kB 16.3 MB/s eta 0:00:01\r\u001b[K     |███████████████████████▏        | 399 kB 16.3 MB/s eta 0:00:01\r\u001b[K     |███████████████████████▊        | 409 kB 16.3 MB/s eta 0:00:01\r\u001b[K     |████████████████████████▎       | 419 kB 16.3 MB/s eta 0:00:01\r\u001b[K     |█████████████████████████       | 430 kB 16.3 MB/s eta 0:00:01\r\u001b[K     |█████████████████████████▌      | 440 kB 16.3 MB/s eta 0:00:01\r\u001b[K     |██████████████████████████      | 450 kB 16.3 MB/s eta 0:00:01\r\u001b[K     |██████████████████████████▊     | 460 kB 16.3 MB/s eta 0:00:01\r\u001b[K     |███████████████████████████▎    | 471 kB 16.3 MB/s eta 0:00:01\r\u001b[K     |███████████████████████████▉    | 481 kB 16.3 MB/s eta 0:00:01\r\u001b[K     |████████████████████████████▌   | 491 kB 16.3 MB/s eta 0:00:01\r\u001b[K     |█████████████████████████████   | 501 kB 16.3 MB/s eta 0:00:01\r\u001b[K     |█████████████████████████████▋  | 512 kB 16.3 MB/s eta 0:00:01\r\u001b[K     |██████████████████████████████▎ | 522 kB 16.3 MB/s eta 0:00:01\r\u001b[K     |██████████████████████████████▉ | 532 kB 16.3 MB/s eta 0:00:01\r\u001b[K     |███████████████████████████████▍| 542 kB 16.3 MB/s eta 0:00:01\r\u001b[K     |████████████████████████████████| 552 kB 16.3 MB/s \n",
            "\u001b[?25hRequirement already satisfied: pandas in /usr/local/lib/python3.7/dist-packages (from deepchem) (1.1.5)\n",
            "Requirement already satisfied: scipy in /usr/local/lib/python3.7/dist-packages (from deepchem) (1.4.1)\n",
            "Requirement already satisfied: scikit-learn in /usr/local/lib/python3.7/dist-packages (from deepchem) (1.0.1)\n",
            "Requirement already satisfied: joblib in /usr/local/lib/python3.7/dist-packages (from deepchem) (1.1.0)\n",
            "Requirement already satisfied: numpy in /usr/local/lib/python3.7/dist-packages (from deepchem) (1.19.5)\n",
            "Requirement already satisfied: python-dateutil>=2.7.3 in /usr/local/lib/python3.7/dist-packages (from pandas->deepchem) (2.8.2)\n",
            "Requirement already satisfied: pytz>=2017.2 in /usr/local/lib/python3.7/dist-packages (from pandas->deepchem) (2018.9)\n",
            "Requirement already satisfied: six>=1.5 in /usr/local/lib/python3.7/dist-packages (from python-dateutil>=2.7.3->pandas->deepchem) (1.15.0)\n",
            "Requirement already satisfied: threadpoolctl>=2.0.0 in /usr/local/lib/python3.7/dist-packages (from scikit-learn->deepchem) (3.0.0)\n",
            "Installing collected packages: deepchem\n",
            "Successfully installed deepchem-2.5.0\n"
          ]
        }
      ]
    },
    {
      "cell_type": "code",
      "metadata": {
        "id": "U-WvOtdkYssC"
      },
      "source": [
        "# Install RDKit.\n",
        "%%capture\n",
        "!pip install rdkit-pypi"
      ],
      "execution_count": null,
      "outputs": []
    },
    {
      "cell_type": "code",
      "metadata": {
        "id": "n5lVoiFzYjVt"
      },
      "source": [
        "tox21_tasks, tox21_datasets, transformers = dc.molnet.load_tox21()"
      ],
      "execution_count": null,
      "outputs": []
    },
    {
      "cell_type": "code",
      "metadata": {
        "id": "JHV0TKziZU4L",
        "colab": {
          "base_uri": "https://localhost:8080/"
        },
        "outputId": "a5c54bd9-2416-44c9-dbff-828f5cc746d5"
      },
      "source": [
        "len(tox21_tasks)"
      ],
      "execution_count": null,
      "outputs": [
        {
          "output_type": "execute_result",
          "data": {
            "text/plain": [
              "12"
            ]
          },
          "metadata": {},
          "execution_count": 6
        }
      ]
    },
    {
      "cell_type": "code",
      "metadata": {
        "id": "-HWBG8QQZss6"
      },
      "source": [
        "train_dataset, valid_dataset, test_dataset = tox21_datasets"
      ],
      "execution_count": null,
      "outputs": []
    },
    {
      "cell_type": "code",
      "metadata": {
        "id": "xTBRMOh3Z0qN",
        "colab": {
          "base_uri": "https://localhost:8080/"
        },
        "outputId": "deb2825e-24cd-4f18-89f9-bcfdd4a46754"
      },
      "source": [
        "train_dataset.X.shape"
      ],
      "execution_count": null,
      "outputs": [
        {
          "output_type": "execute_result",
          "data": {
            "text/plain": [
              "(6264, 1024)"
            ]
          },
          "metadata": {},
          "execution_count": 8
        }
      ]
    },
    {
      "cell_type": "code",
      "metadata": {
        "id": "gJqOOmfbZ42v"
      },
      "source": [
        "model = dc.models.MultitaskClassifier(n_tasks=12,n_features=1024,layer_sizes=[1000])"
      ],
      "execution_count": null,
      "outputs": []
    },
    {
      "cell_type": "code",
      "metadata": {
        "id": "QFPZq4YqaSix",
        "colab": {
          "base_uri": "https://localhost:8080/"
        },
        "outputId": "ae83c35f-b761-4a18-adcc-2f63cb618e36"
      },
      "source": [
        "model.fit(train_dataset, nb_epoch=10)"
      ],
      "execution_count": null,
      "outputs": [
        {
          "output_type": "execute_result",
          "data": {
            "text/plain": [
              "0.5049839019775391"
            ]
          },
          "metadata": {},
          "execution_count": 10
        }
      ]
    },
    {
      "cell_type": "code",
      "metadata": {
        "id": "cBVHGzPpaejj"
      },
      "source": [
        "metric = dc.metrics.Metric(dc.metrics.roc_auc_score, np.mean)"
      ],
      "execution_count": null,
      "outputs": []
    },
    {
      "cell_type": "code",
      "metadata": {
        "id": "gTFc3OW1ajhU"
      },
      "source": [
        "train_scores = model.evaluate(train_dataset, [metric], transformers)\n",
        "test_scores = model.evaluate(test_dataset, [metric], transformers)"
      ],
      "execution_count": null,
      "outputs": []
    },
    {
      "cell_type": "code",
      "metadata": {
        "id": "amyK-i6NaqyL",
        "colab": {
          "base_uri": "https://localhost:8080/"
        },
        "outputId": "d3b7b16e-0a8b-424d-a843-8790fc60540d"
      },
      "source": [
        "print(train_scores)"
      ],
      "execution_count": null,
      "outputs": [
        {
          "output_type": "stream",
          "name": "stdout",
          "text": [
            "{'mean-roc_auc_score': 0.9586315714132257}\n"
          ]
        }
      ]
    },
    {
      "cell_type": "code",
      "metadata": {
        "id": "vZFCbQ-zaxHm",
        "colab": {
          "base_uri": "https://localhost:8080/"
        },
        "outputId": "53bbdeb6-4a57-46ac-f70a-9f08e6c64225"
      },
      "source": [
        "print(test_scores)"
      ],
      "execution_count": null,
      "outputs": [
        {
          "output_type": "stream",
          "name": "stdout",
          "text": [
            "{'mean-roc_auc_score': 0.6819276707104488}\n"
          ]
        }
      ]
    },
    {
      "cell_type": "markdown",
      "metadata": {
        "id": "lSrWNr3MuFUS"
      },
      "source": [
        "Colab notebooks allow you to combine **executable code** and **rich text** in a single document, along with **images**, **HTML**, **LaTeX** and more. When you create your own Colab notebooks, they are stored in your Google Drive account. You can easily share your Colab notebooks with co-workers or friends, allowing them to comment on your notebooks or even edit them. To learn more, see [Overview of Colab](/notebooks/basic_features_overview.ipynb). To create a new Colab notebook you can use the File menu above, or use the following link: [create a new Colab notebook](http://colab.research.google.com#create=true).\n",
        "\n",
        "Colab notebooks are Jupyter notebooks that are hosted by Colab. To learn more about the Jupyter project, see [jupyter.org](https://www.jupyter.org)."
      ]
    },
    {
      "cell_type": "markdown",
      "metadata": {
        "id": "UdRyKR44dcNI"
      },
      "source": [
        "## Data science\n",
        "\n",
        "With Colab you can harness the full power of popular Python libraries to analyze and visualize data. The code cell below uses **numpy** to generate some random data, and uses **matplotlib** to visualize it. To edit the code, just click the cell and start editing."
      ]
    },
    {
      "cell_type": "markdown",
      "metadata": {
        "id": "4_kCnsPUqS6o"
      },
      "source": [
        "You can import your own data into Colab notebooks from your Google Drive account, including from spreadsheets, as well as from Github and many other sources. To learn more about importing data, and how Colab can be used for data science, see the links below under [Working with Data](#working-with-data)."
      ]
    },
    {
      "cell_type": "markdown",
      "metadata": {
        "id": "OwuxHmxllTwN"
      },
      "source": [
        "## Machine learning\n",
        "\n",
        "With Colab you can import an image dataset, train an image classifier on it, and evaluate the model, all in just [a few lines of code](https://colab.research.google.com/github/tensorflow/docs/blob/master/site/en/tutorials/quickstart/beginner.ipynb). Colab notebooks execute code on Google's cloud servers, meaning you can leverage the power of Google hardware, including [GPUs and TPUs](#using-accelerated-hardware), regardless of the power of your machine. All you need is a browser."
      ]
    },
    {
      "cell_type": "markdown",
      "metadata": {
        "id": "ufxBm1yRnruN"
      },
      "source": [
        "Colab is used extensively in the machine learning community with applications including:\n",
        "- Getting started with TensorFlow\n",
        "- Developing and training neural networks\n",
        "- Experimenting with TPUs\n",
        "- Disseminating AI research\n",
        "- Creating tutorials\n",
        "\n",
        "To see sample Colab notebooks that demonstrate machine learning applications, see the [machine learning examples](#machine-learning-examples) below."
      ]
    },
    {
      "cell_type": "markdown",
      "metadata": {
        "id": "-Rh3-Vt9Nev9"
      },
      "source": [
        "## More Resources\n",
        "\n",
        "### Working with Notebooks in Colab\n",
        "- [Overview of Colaboratory](/notebooks/basic_features_overview.ipynb)\n",
        "- [Guide to Markdown](/notebooks/markdown_guide.ipynb)\n",
        "- [Importing libraries and installing dependencies](/notebooks/snippets/importing_libraries.ipynb)\n",
        "- [Saving and loading notebooks in GitHub](https://colab.research.google.com/github/googlecolab/colabtools/blob/master/notebooks/colab-github-demo.ipynb)\n",
        "- [Interactive forms](/notebooks/forms.ipynb)\n",
        "- [Interactive widgets](/notebooks/widgets.ipynb)\n",
        "- <img src=\"/img/new.png\" height=\"20px\" align=\"left\" hspace=\"4px\" alt=\"New\"></img>\n",
        " [TensorFlow 2 in Colab](/notebooks/tensorflow_version.ipynb)\n",
        "\n",
        "<a name=\"working-with-data\"></a>\n",
        "### Working with Data\n",
        "- [Loading data: Drive, Sheets, and Google Cloud Storage](/notebooks/io.ipynb) \n",
        "- [Charts: visualizing data](/notebooks/charts.ipynb)\n",
        "- [Getting started with BigQuery](/notebooks/bigquery.ipynb)\n",
        "\n",
        "### Machine Learning Crash Course\n",
        "These are a few of the notebooks from Google's online Machine Learning course. See the [full course website](https://developers.google.com/machine-learning/crash-course/) for more.\n",
        "- [Intro to Pandas DataFrame](https://colab.research.google.com/github/google/eng-edu/blob/main/ml/cc/exercises/pandas_dataframe_ultraquick_tutorial.ipynb)\n",
        "- [Linear regression with tf.keras using synthetic data](https://colab.research.google.com/github/google/eng-edu/blob/main/ml/cc/exercises/linear_regression_with_synthetic_data.ipynb)\n",
        "\n",
        "\n",
        "<a name=\"using-accelerated-hardware\"></a>\n",
        "### Using Accelerated Hardware\n",
        "- [TensorFlow with GPUs](/notebooks/gpu.ipynb)\n",
        "- [TensorFlow with TPUs](/notebooks/tpu.ipynb)"
      ]
    },
    {
      "cell_type": "markdown",
      "metadata": {
        "id": "P-H6Lw1vyNNd"
      },
      "source": [
        "<a name=\"machine-learning-examples\"></a>\n",
        "\n",
        "## Machine Learning Examples\n",
        "\n",
        "To see end-to-end examples of the interactive machine learning analyses that Colaboratory makes possible, check out these  tutorials using models from [TensorFlow Hub](https://tfhub.dev).\n",
        "\n",
        "A few featured examples:\n",
        "\n",
        "- [Retraining an Image Classifier](https://tensorflow.org/hub/tutorials/tf2_image_retraining): Build a Keras model on top of a pre-trained image classifier to distinguish flowers.\n",
        "- [Text Classification](https://tensorflow.org/hub/tutorials/tf2_text_classification): Classify IMDB movie reviews as either *positive* or *negative*.\n",
        "- [Style Transfer](https://tensorflow.org/hub/tutorials/tf2_arbitrary_image_stylization): Use deep learning to transfer style between images.\n",
        "- [Multilingual Universal Sentence Encoder Q&A](https://tensorflow.org/hub/tutorials/retrieval_with_tf_hub_universal_encoder_qa): Use a machine learning model to answer questions from the SQuAD dataset.\n",
        "- [Video Interpolation](https://tensorflow.org/hub/tutorials/tweening_conv3d): Predict what happened in a video between the first and the last frame.\n"
      ]
    }
  ]
}